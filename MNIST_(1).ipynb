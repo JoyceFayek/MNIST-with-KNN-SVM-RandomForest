{
  "cells": [
    {
      "cell_type": "markdown",
      "metadata": {
        "id": "view-in-github",
        "colab_type": "text"
      },
      "source": [
        "<a href=\"https://colab.research.google.com/github/JoyceFayek/MNIST-with-KNN-SVM-RandomForest/blob/main/MNIST_(1).ipynb\" target=\"_parent\"><img src=\"https://colab.research.google.com/assets/colab-badge.svg\" alt=\"Open In Colab\"/></a>"
      ]
    },
    {
      "cell_type": "markdown",
      "metadata": {
        "id": "nZdYdZi4ii9Q"
      },
      "source": [
        "# Importing libraries"
      ]
    },
    {
      "cell_type": "code",
      "execution_count": null,
      "metadata": {
        "id": "c2k_6NfDi6Uc"
      },
      "outputs": [],
      "source": [
        "import tensorflow as tf\n",
        "import matplotlib.pyplot as plt\n",
        "%matplotlib inline \n",
        "from tensorflow import keras\n",
        "from tensorflow.keras import models\n",
        "import numpy as np\n",
        "import pandas as pd\n",
        "from skimage.feature import hog\n",
        "from sklearn.neighbors import KNeighborsClassifier\n",
        "from sklearn import preprocessing\n",
        "from sklearn import metrics\n",
        "from sklearn.ensemble import RandomForestClassifier  \n",
        "from sklearn.model_selection import RandomizedSearchCV, GridSearchCV \n",
        "from sklearn.model_selection import cross_val_score\n",
        "from sklearn.metrics import classification_report\n",
        "from sklearn.metrics import confusion_matrix\n",
        "from sklearn.metrics import accuracy_score\n",
        "from sklearn import metrics\n",
        "from sklearn.svm import LinearSVC\n",
        "from sklearn.svm import SVC\n",
        "from sklearn import svm"
      ]
    },
    {
      "cell_type": "markdown",
      "metadata": {
        "id": "hWOBCx8xiuj3"
      },
      "source": [
        "# Loading dataset"
      ]
    },
    {
      "cell_type": "code",
      "execution_count": null,
      "metadata": {
        "id": "k9pSlLvwlCyM",
        "colab": {
          "base_uri": "https://localhost:8080/"
        },
        "outputId": "879cce61-b02f-4cfd-bf23-9cba5ff08ae3"
      },
      "outputs": [
        {
          "output_type": "stream",
          "name": "stdout",
          "text": [
            "Downloading data from https://storage.googleapis.com/tensorflow/tf-keras-datasets/mnist.npz\n",
            "11493376/11490434 [==============================] - 0s 0us/step\n",
            "11501568/11490434 [==============================] - 0s 0us/step\n"
          ]
        }
      ],
      "source": [
        "#Loading data\n",
        "(x_train,y_train) , (x_test ,y_test) = keras.datasets.mnist.load_data()"
      ]
    },
    {
      "cell_type": "code",
      "execution_count": null,
      "metadata": {
        "colab": {
          "base_uri": "https://localhost:8080/",
          "height": 112
        },
        "id": "SUlTOOZCcn4W",
        "outputId": "9f49a013-a171-4fbf-9af1-561fabaca6f4"
      },
      "outputs": [
        {
          "output_type": "display_data",
          "data": {
            "image/png": "[encoded data removed]",
            "text/plain": [
              "<Figure size 504x216 with 7 Axes>"
            ]
          },
          "metadata": {
            "needs_background": "light"
          }
        }
      ],
      "source": [
        "fig, axes=plt.subplots(1,7,figsize=(7,3))\n",
        "for img,label,ax in zip(x_train[:7],y_train[:7],axes):\n",
        "  ax.set_title(label)\n",
        "  ax.imshow(img)\n",
        "plt.show()"
      ]
    },
    {
      "cell_type": "code",
      "execution_count": null,
      "metadata": {
        "colab": {
          "base_uri": "https://localhost:8080/"
        },
        "id": "W2yO-BQhleBT",
        "outputId": "8a2aa3e8-3575-4b54-ea5e-cac8ed61efd0"
      },
      "outputs": [
        {
          "output_type": "stream",
          "name": "stdout",
          "text": [
            "The X train data shape is:  (60000, 28, 28)\n",
            "The Y train data shape is:  (60000,)\n",
            "The X test data shape is:  (10000, 28, 28)\n",
            "The Y test data shape is:  (10000,)\n"
          ]
        }
      ],
      "source": [
        "#Shape of the data\n",
        "print(\"The X train data shape is: \", x_train.shape)\n",
        "print(\"The Y train data shape is: \", y_train.shape)\n",
        "print(\"The X test data shape is: \", x_test.shape)\n",
        "print(\"The Y test data shape is: \", y_test.shape)"
      ]
    },
    {
      "cell_type": "markdown",
      "metadata": {
        "id": "8z2QXyvii6k_"
      },
      "source": [
        "# Applying HOG"
      ]
    },
    {
      "cell_type": "code",
      "execution_count": null,
      "metadata": {
        "id": "CI0rDdpCmfgI"
      },
      "outputs": [],
      "source": [
        "#HOG Function\n",
        "def HOG(X, image_shape=(28, 28), pixels_per_cell=(2, 2)):\n",
        "    feature_matrix = []\n",
        "    for row in X:\n",
        "        img = row.reshape(image_shape)\n",
        "        fd = hog(img, orientations=8, pixels_per_cell=pixels_per_cell, cells_per_block=(2, 2))\n",
        "        feature_matrix.append(fd)\n",
        "    \n",
        "    return np.array(feature_matrix)"
      ]
    },
    {
      "cell_type": "code",
      "execution_count": null,
      "metadata": {
        "id": "lciabY0Bpig0"
      },
      "outputs": [],
      "source": [
        "#Apply HOG on x_train\n",
        "x_train = HOG(x_train, pixels_per_cell=(2, 2))"
      ]
    },
    {
      "cell_type": "code",
      "execution_count": null,
      "metadata": {
        "id": "pPiPnATgp1YL"
      },
      "outputs": [],
      "source": [
        "#Apply HOG on x_test\n",
        "x_test = HOG(x_test, pixels_per_cell=(2, 2))"
      ]
    },
    {
      "cell_type": "markdown",
      "metadata": {
        "id": "DsZMCxBsjBeP"
      },
      "source": [
        "# Checking the shape of X_train and X_test"
      ]
    },
    {
      "cell_type": "code",
      "execution_count": null,
      "metadata": {
        "id": "JYyz9VZJp8Qp",
        "colab": {
          "base_uri": "https://localhost:8080/"
        },
        "outputId": "ffec41bb-a179-4060-fe2b-3339a8e77e88"
      },
      "outputs": [
        {
          "output_type": "stream",
          "name": "stdout",
          "text": [
            "The X train data shape is:  (60000, 28, 28)\n",
            "The X test data shape is:  (10000, 28, 28)\n"
          ]
        }
      ],
      "source": [
        "#Shape of the data\n",
        "print(\"The X train data shape is: \", x_train.shape)\n",
        "print(\"The X test data shape is: \", x_test.shape)"
      ]
    },
    {
      "cell_type": "markdown",
      "metadata": {
        "id": "yK14c82pDNE1"
      },
      "source": [
        "#The recall means \"how many of this class you find over the whole number of element of this class\".\n",
        "#The precision will be \"how many are correctly classified among that class\"\n",
        "#The f1-score is the harmonic mean between precision & recall.\n",
        "#The support is the number of occurence of the given class in your dataset."
      ]
    },
    {
      "cell_type": "markdown",
      "metadata": {
        "id": "GkqfumWZs__B"
      },
      "source": [
        "# Applying KNN"
      ]
    },
    {
      "cell_type": "code",
      "execution_count": null,
      "metadata": {
        "id": "RLwKHCpQtG11"
      },
      "outputs": [],
      "source": [
        "KNN = KNeighborsClassifier(7).fit(x_train,y_train)\n",
        "knn_prediction = KNN.predict(x_test)"
      ]
    },
    {
      "cell_type": "code",
      "execution_count": null,
      "metadata": {
        "colab": {
          "base_uri": "https://localhost:8080/"
        },
        "id": "wzWxprZdDNE2",
        "outputId": "55f4cdb4-77d7-4923-8522-792e30dc1254"
      },
      "outputs": [
        {
          "output_type": "stream",
          "name": "stdout",
          "text": [
            "Classification Report\n",
            "              precision    recall  f1-score   support\n",
            "\n",
            "           0       0.96      0.99      0.97       980\n",
            "           1       0.91      1.00      0.95      1135\n",
            "           2       0.99      0.94      0.96      1032\n",
            "           3       0.98      0.97      0.97      1010\n",
            "           4       1.00      0.92      0.96       982\n",
            "           5       0.98      0.95      0.96       892\n",
            "           6       0.97      0.99      0.98       958\n",
            "           7       0.95      0.96      0.96      1028\n",
            "           8       0.98      0.94      0.96       974\n",
            "           9       0.93      0.97      0.95      1009\n",
            "\n",
            "    accuracy                           0.96     10000\n",
            "   macro avg       0.96      0.96      0.96     10000\n",
            "weighted avg       0.96      0.96      0.96     10000\n",
            "\n"
          ]
        }
      ],
      "source": [
        "print (\"Classification Report\")\n",
        "print(classification_report(y_test, knn_prediction))"
      ]
    },
    {
      "cell_type": "code",
      "execution_count": null,
      "metadata": {
        "colab": {
          "base_uri": "https://localhost:8080/"
        },
        "id": "DqO84brlDNE2",
        "outputId": "a76837db-b07b-4f2f-a2e4-4d91a8ad4294"
      },
      "outputs": [
        {
          "output_type": "stream",
          "name": "stdout",
          "text": [
            "accuracy:  96.26 %\n"
          ]
        }
      ],
      "source": [
        "KNN_accuracy = metrics.accuracy_score(y_test, knn_prediction)\n",
        "print(\"accuracy: \", KNN_accuracy*100 , \"%\")"
      ]
    },
    {
      "cell_type": "markdown",
      "metadata": {
        "id": "0hG2_662DNE2"
      },
      "source": [
        "# Applying SVM with LinearSVC"
      ]
    },
    {
      "cell_type": "code",
      "execution_count": null,
      "metadata": {
        "id": "7rVUUe4OMMQZ",
        "scrolled": false
      },
      "outputs": [],
      "source": [
        "#Apply SVM (Support Vector Machine )\n",
        "#Regularization parameter in python's Scikit-learn C parameter used to maintain regularization. Here C is the penalty parameter, which represents misclassification or error term.\n",
        "#SVM Model Using Regularization parameter C, accuracy decreases when the value of C become bigger\n",
        "\n",
        "svc = svm.LinearSVC(C = 0.1)\n",
        "\n",
        "# Train the model using the training sets\n",
        "svc.fit(x_train, y_train)\n",
        "\n",
        "# svc = svm.SVC(kernel ='linear', C = 0.1,max_iter=250)\n",
        "# svc.fit(x_train, y_train)\n",
        "# # Calculate Accuracy of Model\n",
        "# predicted= svc.predict(x_test)\n",
        "# accuracy = accuracy_score(y_test,predicted)\n",
        "# print(\"Model Accuracy is\", accuracy)"
      ]
    },
    {
      "cell_type": "code",
      "execution_count": null,
      "metadata": {
        "id": "nj8yksCFDNE3"
      },
      "outputs": [],
      "source": [
        "predicted= svc.predict(x_test)"
      ]
    },
    {
      "cell_type": "code",
      "execution_count": null,
      "metadata": {
        "id": "S_J_HllxDNE3"
      },
      "outputs": [],
      "source": [
        "print (\"Classification Report\")\n",
        "print(classification_report(y_test, predicted))"
      ]
    },
    {
      "cell_type": "code",
      "execution_count": null,
      "metadata": {
        "id": "MGLwipsNDNE4"
      },
      "outputs": [],
      "source": [
        "# Calculate Accuracy of Model\n",
        "accuracy = accuracy_score(y_test,predicted)\n",
        "print(\"Model Accuracy is\", accuracy*100,\"%\")"
      ]
    },
    {
      "cell_type": "markdown",
      "metadata": {
        "id": "-R6JKr21wrea"
      },
      "source": [
        "# Applying Random Forest"
      ]
    },
    {
      "cell_type": "code",
      "execution_count": null,
      "metadata": {
        "id": "Wf3xrpvpv_OZ"
      },
      "outputs": [],
      "source": [
        "#n_estimators: The number of decision trees being built in the forest\n",
        "#Max_depth: The maximum levels allowed in a decision tree. If set to nothing, The decision tree will keep on splitting until purity is reached\n",
        "#Max_features: Maximum number of features used for a node split process. Types: sqrt, log2. If total features are n_features then: sqrt(n_features) or log2(n_features) can be selected as max features for node splitting.\n",
        "#random_state: the model with a specific random_state will produce similar accuracy/ outputs.\n",
        "rf = RandomForestClassifier(n_estimators=100)\n",
        "rf.fit(x_train, y_train)\n",
        "#rf = RandomForestClassifier(n_estimators=100, max_features = 21, max_depth = 21, random_state = 42)"
      ]
    },
    {
      "cell_type": "code",
      "execution_count": null,
      "metadata": {
        "id": "4EiiUfEPDNE5"
      },
      "outputs": [],
      "source": [
        "y_pred=rf.predict(x_test)"
      ]
    },
    {
      "cell_type": "code",
      "execution_count": null,
      "metadata": {
        "id": "k4FJpwOkxO2j"
      },
      "outputs": [],
      "source": [
        "print (\"Classification Report\")\n",
        "print(classification_report(y_test, y_pred))"
      ]
    },
    {
      "cell_type": "code",
      "execution_count": null,
      "metadata": {
        "id": "vArSknVwxS2F"
      },
      "outputs": [],
      "source": [
        "print(\"Accuracy: \",accuracy_score(y_pred, y_test)*100,\"%\")"
      ]
    },
    {
      "cell_type": "code",
      "execution_count": null,
      "metadata": {
        "id": "_HD_JUqaFVuo"
      },
      "outputs": [],
      "source": [
        "# Using cross validation to evaluate performance. Compute mean score and 95% interval of score estimate\n",
        "scores = cross_val_score(rf, x_test, y_test, cv=5, scoring='accuracy')\n",
        "print(scores)\n",
        "print(\"Cross-Validation (CV=5) Accuracy: \", scores.mean()*100,\"%\")"
      ]
    },
    {
      "cell_type": "code",
      "execution_count": null,
      "metadata": {
        "id": "8hKfSJ3s5An7"
      },
      "outputs": [],
      "source": [
        "print(\"Test Sample: \",y_test[11])"
      ]
    }
  ],
  "metadata": {
    "colab": {
      "collapsed_sections": [],
      "name": "MNIST (1).ipynb",
      "provenance": [],
      "toc_visible": true,
      "include_colab_link": true
    },
    "kernelspec": {
      "display_name": "Python 3 (ipykernel)",
      "language": "python",
      "name": "python3"
    },
    "language_info": {
      "codemirror_mode": {
        "name": "ipython",
        "version": 3
      },
      "file_extension": ".py",
      "mimetype": "text/x-python",
      "name": "python",
      "nbconvert_exporter": "python",
      "pygments_lexer": "ipython3",
      "version": "3.9.7"
    }
  },
  "nbformat": 4,
  "nbformat_minor": 0
}